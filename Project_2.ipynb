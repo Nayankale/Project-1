{
 "cells": [
  {
   "cell_type": "code",
   "execution_count": 1,
   "id": "dce4c5ec",
   "metadata": {},
   "outputs": [],
   "source": [
    "import pandas as pd\n",
    "%matplotlib inline\n",
    "import matplotlib.pyplot as plt\n",
    "import numpy as np\n",
    "from scipy import stats\n",
    "import seaborn as sns\n",
    "import math\n",
    "from sklearn.ensemble import RandomForestRegressor\n",
    "from lightgbm import LGBMRegressor\n",
    "from bayes_opt import BayesianOptimization\n",
    "from sklearn.metrics import accuracy_score, confusion_matrix, classification_report\n",
    "import pickle\n",
    "from sklearn.metrics import mean_squared_error"
   ]
  },
  {
   "cell_type": "code",
   "execution_count": 2,
   "id": "6ca866f8",
   "metadata": {},
   "outputs": [],
   "source": [
    "df1 = pd.read_csv('training_data.csv')"
   ]
  },
  {
   "cell_type": "code",
   "execution_count": 3,
   "id": "662ebd77",
   "metadata": {},
   "outputs": [
    {
     "data": {
      "text/html": [
       "<div>\n",
       "<style scoped>\n",
       "    .dataframe tbody tr th:only-of-type {\n",
       "        vertical-align: middle;\n",
       "    }\n",
       "\n",
       "    .dataframe tbody tr th {\n",
       "        vertical-align: top;\n",
       "    }\n",
       "\n",
       "    .dataframe thead th {\n",
       "        text-align: right;\n",
       "    }\n",
       "</style>\n",
       "<table border=\"1\" class=\"dataframe\">\n",
       "  <thead>\n",
       "    <tr style=\"text-align: right;\">\n",
       "      <th></th>\n",
       "      <th>id</th>\n",
       "      <th>MedInc</th>\n",
       "      <th>HouseAge</th>\n",
       "      <th>AveRooms</th>\n",
       "      <th>AveBedrms</th>\n",
       "      <th>Population</th>\n",
       "      <th>AveOccup</th>\n",
       "      <th>Latitude</th>\n",
       "      <th>Longitude</th>\n",
       "      <th>MedHouseVal</th>\n",
       "    </tr>\n",
       "  </thead>\n",
       "  <tbody>\n",
       "    <tr>\n",
       "      <th>0</th>\n",
       "      <td>3545</td>\n",
       "      <td>3.2375</td>\n",
       "      <td>5.0</td>\n",
       "      <td>6.028881</td>\n",
       "      <td>1.051118</td>\n",
       "      <td>4660.0</td>\n",
       "      <td>2.717201</td>\n",
       "      <td>38.10</td>\n",
       "      <td>-122.14</td>\n",
       "      <td>1.924</td>\n",
       "    </tr>\n",
       "    <tr>\n",
       "      <th>1</th>\n",
       "      <td>36760</td>\n",
       "      <td>4.5500</td>\n",
       "      <td>18.0</td>\n",
       "      <td>6.091451</td>\n",
       "      <td>1.030581</td>\n",
       "      <td>1623.0</td>\n",
       "      <td>3.330014</td>\n",
       "      <td>34.37</td>\n",
       "      <td>-118.52</td>\n",
       "      <td>1.991</td>\n",
       "    </tr>\n",
       "    <tr>\n",
       "      <th>2</th>\n",
       "      <td>29301</td>\n",
       "      <td>6.0743</td>\n",
       "      <td>16.0</td>\n",
       "      <td>6.394805</td>\n",
       "      <td>1.027350</td>\n",
       "      <td>1574.0</td>\n",
       "      <td>3.091451</td>\n",
       "      <td>34.11</td>\n",
       "      <td>-117.80</td>\n",
       "      <td>2.610</td>\n",
       "    </tr>\n",
       "    <tr>\n",
       "      <th>3</th>\n",
       "      <td>285</td>\n",
       "      <td>3.6875</td>\n",
       "      <td>15.0</td>\n",
       "      <td>5.164835</td>\n",
       "      <td>1.056911</td>\n",
       "      <td>616.0</td>\n",
       "      <td>2.737892</td>\n",
       "      <td>38.49</td>\n",
       "      <td>-122.59</td>\n",
       "      <td>1.917</td>\n",
       "    </tr>\n",
       "    <tr>\n",
       "      <th>4</th>\n",
       "      <td>30757</td>\n",
       "      <td>6.1273</td>\n",
       "      <td>11.0</td>\n",
       "      <td>6.256544</td>\n",
       "      <td>1.029503</td>\n",
       "      <td>7777.0</td>\n",
       "      <td>2.383468</td>\n",
       "      <td>34.19</td>\n",
       "      <td>-118.64</td>\n",
       "      <td>2.915</td>\n",
       "    </tr>\n",
       "  </tbody>\n",
       "</table>\n",
       "</div>"
      ],
      "text/plain": [
       "      id  MedInc  HouseAge  AveRooms  AveBedrms  Population  AveOccup  \\\n",
       "0   3545  3.2375       5.0  6.028881   1.051118      4660.0  2.717201   \n",
       "1  36760  4.5500      18.0  6.091451   1.030581      1623.0  3.330014   \n",
       "2  29301  6.0743      16.0  6.394805   1.027350      1574.0  3.091451   \n",
       "3    285  3.6875      15.0  5.164835   1.056911       616.0  2.737892   \n",
       "4  30757  6.1273      11.0  6.256544   1.029503      7777.0  2.383468   \n",
       "\n",
       "   Latitude  Longitude  MedHouseVal  \n",
       "0     38.10    -122.14        1.924  \n",
       "1     34.37    -118.52        1.991  \n",
       "2     34.11    -117.80        2.610  \n",
       "3     38.49    -122.59        1.917  \n",
       "4     34.19    -118.64        2.915  "
      ]
     },
     "execution_count": 3,
     "metadata": {},
     "output_type": "execute_result"
    }
   ],
   "source": [
    "df1.head()"
   ]
  },
  {
   "cell_type": "code",
   "execution_count": 4,
   "id": "a0edccba",
   "metadata": {},
   "outputs": [
    {
     "data": {
      "text/plain": [
       "(29709, 10)"
      ]
     },
     "execution_count": 4,
     "metadata": {},
     "output_type": "execute_result"
    }
   ],
   "source": [
    "df1.shape"
   ]
  },
  {
   "cell_type": "code",
   "execution_count": 5,
   "id": "af54c6ef",
   "metadata": {},
   "outputs": [],
   "source": [
    "df1.drop(['id'], axis='columns',inplace = True)"
   ]
  },
  {
   "cell_type": "code",
   "execution_count": 6,
   "id": "b988827d",
   "metadata": {},
   "outputs": [
    {
     "data": {
      "text/plain": [
       "MedInc         0\n",
       "HouseAge       0\n",
       "AveRooms       0\n",
       "AveBedrms      0\n",
       "Population     0\n",
       "AveOccup       0\n",
       "Latitude       0\n",
       "Longitude      0\n",
       "MedHouseVal    0\n",
       "dtype: int64"
      ]
     },
     "execution_count": 6,
     "metadata": {},
     "output_type": "execute_result"
    }
   ],
   "source": [
    "df1.isnull().sum()"
   ]
  },
  {
   "cell_type": "code",
   "execution_count": 7,
   "id": "c733a9fc",
   "metadata": {},
   "outputs": [
    {
     "data": {
      "text/html": [
       "<div>\n",
       "<style scoped>\n",
       "    .dataframe tbody tr th:only-of-type {\n",
       "        vertical-align: middle;\n",
       "    }\n",
       "\n",
       "    .dataframe tbody tr th {\n",
       "        vertical-align: top;\n",
       "    }\n",
       "\n",
       "    .dataframe thead th {\n",
       "        text-align: right;\n",
       "    }\n",
       "</style>\n",
       "<table border=\"1\" class=\"dataframe\">\n",
       "  <thead>\n",
       "    <tr style=\"text-align: right;\">\n",
       "      <th></th>\n",
       "      <th>MedInc</th>\n",
       "      <th>HouseAge</th>\n",
       "      <th>AveRooms</th>\n",
       "      <th>AveBedrms</th>\n",
       "      <th>Population</th>\n",
       "      <th>AveOccup</th>\n",
       "      <th>Latitude</th>\n",
       "      <th>Longitude</th>\n",
       "      <th>MedHouseVal</th>\n",
       "    </tr>\n",
       "  </thead>\n",
       "  <tbody>\n",
       "    <tr>\n",
       "      <th>count</th>\n",
       "      <td>29709.000000</td>\n",
       "      <td>29709.000000</td>\n",
       "      <td>29709.000000</td>\n",
       "      <td>29709.000000</td>\n",
       "      <td>29709.000000</td>\n",
       "      <td>29709.000000</td>\n",
       "      <td>29709.000000</td>\n",
       "      <td>29709.000000</td>\n",
       "      <td>29709.000000</td>\n",
       "    </tr>\n",
       "    <tr>\n",
       "      <th>mean</th>\n",
       "      <td>3.854474</td>\n",
       "      <td>26.084856</td>\n",
       "      <td>5.165188</td>\n",
       "      <td>1.062142</td>\n",
       "      <td>1664.366523</td>\n",
       "      <td>2.833073</td>\n",
       "      <td>35.574937</td>\n",
       "      <td>-119.559416</td>\n",
       "      <td>2.077761</td>\n",
       "    </tr>\n",
       "    <tr>\n",
       "      <th>std</th>\n",
       "      <td>1.808813</td>\n",
       "      <td>12.162222</td>\n",
       "      <td>1.194982</td>\n",
       "      <td>0.096120</td>\n",
       "      <td>1311.036683</td>\n",
       "      <td>2.999188</td>\n",
       "      <td>2.083048</td>\n",
       "      <td>1.975349</td>\n",
       "      <td>1.157184</td>\n",
       "    </tr>\n",
       "    <tr>\n",
       "      <th>min</th>\n",
       "      <td>0.499900</td>\n",
       "      <td>2.000000</td>\n",
       "      <td>0.851064</td>\n",
       "      <td>0.500000</td>\n",
       "      <td>3.000000</td>\n",
       "      <td>0.950000</td>\n",
       "      <td>32.550000</td>\n",
       "      <td>-124.350000</td>\n",
       "      <td>0.149990</td>\n",
       "    </tr>\n",
       "    <tr>\n",
       "      <th>25%</th>\n",
       "      <td>2.600000</td>\n",
       "      <td>17.000000</td>\n",
       "      <td>4.359797</td>\n",
       "      <td>1.020216</td>\n",
       "      <td>950.000000</td>\n",
       "      <td>2.392789</td>\n",
       "      <td>33.930000</td>\n",
       "      <td>-121.800000</td>\n",
       "      <td>1.206000</td>\n",
       "    </tr>\n",
       "    <tr>\n",
       "      <th>50%</th>\n",
       "      <td>3.517900</td>\n",
       "      <td>25.000000</td>\n",
       "      <td>5.070281</td>\n",
       "      <td>1.054475</td>\n",
       "      <td>1383.000000</td>\n",
       "      <td>2.744425</td>\n",
       "      <td>34.190000</td>\n",
       "      <td>-118.450000</td>\n",
       "      <td>1.807000</td>\n",
       "    </tr>\n",
       "    <tr>\n",
       "      <th>75%</th>\n",
       "      <td>4.700000</td>\n",
       "      <td>35.000000</td>\n",
       "      <td>5.865672</td>\n",
       "      <td>1.088657</td>\n",
       "      <td>1858.000000</td>\n",
       "      <td>3.122137</td>\n",
       "      <td>37.700000</td>\n",
       "      <td>-118.020000</td>\n",
       "      <td>2.660000</td>\n",
       "    </tr>\n",
       "    <tr>\n",
       "      <th>max</th>\n",
       "      <td>15.000100</td>\n",
       "      <td>52.000000</td>\n",
       "      <td>23.891566</td>\n",
       "      <td>5.873181</td>\n",
       "      <td>35682.000000</td>\n",
       "      <td>502.990610</td>\n",
       "      <td>41.950000</td>\n",
       "      <td>-114.550000</td>\n",
       "      <td>5.000010</td>\n",
       "    </tr>\n",
       "  </tbody>\n",
       "</table>\n",
       "</div>"
      ],
      "text/plain": [
       "             MedInc      HouseAge      AveRooms     AveBedrms    Population  \\\n",
       "count  29709.000000  29709.000000  29709.000000  29709.000000  29709.000000   \n",
       "mean       3.854474     26.084856      5.165188      1.062142   1664.366523   \n",
       "std        1.808813     12.162222      1.194982      0.096120   1311.036683   \n",
       "min        0.499900      2.000000      0.851064      0.500000      3.000000   \n",
       "25%        2.600000     17.000000      4.359797      1.020216    950.000000   \n",
       "50%        3.517900     25.000000      5.070281      1.054475   1383.000000   \n",
       "75%        4.700000     35.000000      5.865672      1.088657   1858.000000   \n",
       "max       15.000100     52.000000     23.891566      5.873181  35682.000000   \n",
       "\n",
       "           AveOccup      Latitude     Longitude   MedHouseVal  \n",
       "count  29709.000000  29709.000000  29709.000000  29709.000000  \n",
       "mean       2.833073     35.574937   -119.559416      2.077761  \n",
       "std        2.999188      2.083048      1.975349      1.157184  \n",
       "min        0.950000     32.550000   -124.350000      0.149990  \n",
       "25%        2.392789     33.930000   -121.800000      1.206000  \n",
       "50%        2.744425     34.190000   -118.450000      1.807000  \n",
       "75%        3.122137     37.700000   -118.020000      2.660000  \n",
       "max      502.990610     41.950000   -114.550000      5.000010  "
      ]
     },
     "execution_count": 7,
     "metadata": {},
     "output_type": "execute_result"
    }
   ],
   "source": [
    "df1.describe()"
   ]
  },
  {
   "cell_type": "code",
   "execution_count": 8,
   "id": "6cb94362",
   "metadata": {},
   "outputs": [],
   "source": [
    "#import sweetviz as sv"
   ]
  },
  {
   "cell_type": "code",
   "execution_count": 9,
   "id": "dc175c68",
   "metadata": {},
   "outputs": [],
   "source": [
    "#report = sv.analyze(df1)"
   ]
  },
  {
   "cell_type": "code",
   "execution_count": 10,
   "id": "92784da3",
   "metadata": {},
   "outputs": [],
   "source": [
    "#report.show_html(\"./report.html\")"
   ]
  },
  {
   "cell_type": "code",
   "execution_count": 11,
   "id": "35d08cb7",
   "metadata": {},
   "outputs": [
    {
     "data": {
      "text/html": [
       "<div>\n",
       "<style scoped>\n",
       "    .dataframe tbody tr th:only-of-type {\n",
       "        vertical-align: middle;\n",
       "    }\n",
       "\n",
       "    .dataframe tbody tr th {\n",
       "        vertical-align: top;\n",
       "    }\n",
       "\n",
       "    .dataframe thead th {\n",
       "        text-align: right;\n",
       "    }\n",
       "</style>\n",
       "<table border=\"1\" class=\"dataframe\">\n",
       "  <thead>\n",
       "    <tr style=\"text-align: right;\">\n",
       "      <th></th>\n",
       "      <th>MedInc</th>\n",
       "      <th>HouseAge</th>\n",
       "      <th>AveRooms</th>\n",
       "      <th>AveBedrms</th>\n",
       "      <th>Population</th>\n",
       "      <th>AveOccup</th>\n",
       "      <th>Latitude</th>\n",
       "      <th>Longitude</th>\n",
       "      <th>MedHouseVal</th>\n",
       "    </tr>\n",
       "  </thead>\n",
       "  <tbody>\n",
       "    <tr>\n",
       "      <th>161</th>\n",
       "      <td>2.9861</td>\n",
       "      <td>33.0</td>\n",
       "      <td>16.663636</td>\n",
       "      <td>3.427273</td>\n",
       "      <td>568.0</td>\n",
       "      <td>2.131313</td>\n",
       "      <td>39.48</td>\n",
       "      <td>-120.15</td>\n",
       "      <td>1.89700</td>\n",
       "    </tr>\n",
       "    <tr>\n",
       "      <th>2044</th>\n",
       "      <td>3.5781</td>\n",
       "      <td>6.0</td>\n",
       "      <td>11.285714</td>\n",
       "      <td>2.823810</td>\n",
       "      <td>88.0</td>\n",
       "      <td>2.397619</td>\n",
       "      <td>33.69</td>\n",
       "      <td>-116.47</td>\n",
       "      <td>1.60000</td>\n",
       "    </tr>\n",
       "    <tr>\n",
       "      <th>2935</th>\n",
       "      <td>3.5833</td>\n",
       "      <td>6.0</td>\n",
       "      <td>19.656250</td>\n",
       "      <td>2.206250</td>\n",
       "      <td>69.0</td>\n",
       "      <td>2.700000</td>\n",
       "      <td>33.78</td>\n",
       "      <td>-116.95</td>\n",
       "      <td>1.40000</td>\n",
       "    </tr>\n",
       "    <tr>\n",
       "      <th>3285</th>\n",
       "      <td>6.2547</td>\n",
       "      <td>25.0</td>\n",
       "      <td>21.397436</td>\n",
       "      <td>4.461538</td>\n",
       "      <td>181.0</td>\n",
       "      <td>2.769231</td>\n",
       "      <td>37.35</td>\n",
       "      <td>-120.57</td>\n",
       "      <td>1.67600</td>\n",
       "    </tr>\n",
       "    <tr>\n",
       "      <th>3307</th>\n",
       "      <td>2.1955</td>\n",
       "      <td>9.0</td>\n",
       "      <td>11.298969</td>\n",
       "      <td>2.401051</td>\n",
       "      <td>1257.0</td>\n",
       "      <td>2.567194</td>\n",
       "      <td>34.26</td>\n",
       "      <td>-117.24</td>\n",
       "      <td>0.75000</td>\n",
       "    </tr>\n",
       "    <tr>\n",
       "      <th>3925</th>\n",
       "      <td>5.3989</td>\n",
       "      <td>2.0</td>\n",
       "      <td>11.293103</td>\n",
       "      <td>1.717241</td>\n",
       "      <td>3881.0</td>\n",
       "      <td>1.799310</td>\n",
       "      <td>33.64</td>\n",
       "      <td>-117.61</td>\n",
       "      <td>1.80900</td>\n",
       "    </tr>\n",
       "    <tr>\n",
       "      <th>4662</th>\n",
       "      <td>3.7802</td>\n",
       "      <td>24.0</td>\n",
       "      <td>14.855037</td>\n",
       "      <td>2.763780</td>\n",
       "      <td>1079.0</td>\n",
       "      <td>2.595845</td>\n",
       "      <td>34.18</td>\n",
       "      <td>-119.19</td>\n",
       "      <td>1.84100</td>\n",
       "    </tr>\n",
       "    <tr>\n",
       "      <th>7923</th>\n",
       "      <td>1.7188</td>\n",
       "      <td>17.0</td>\n",
       "      <td>21.805654</td>\n",
       "      <td>4.038462</td>\n",
       "      <td>102.0</td>\n",
       "      <td>2.441558</td>\n",
       "      <td>39.14</td>\n",
       "      <td>-116.90</td>\n",
       "      <td>0.72200</td>\n",
       "    </tr>\n",
       "    <tr>\n",
       "      <th>8259</th>\n",
       "      <td>2.6288</td>\n",
       "      <td>17.0</td>\n",
       "      <td>11.490862</td>\n",
       "      <td>2.206107</td>\n",
       "      <td>1409.0</td>\n",
       "      <td>2.637168</td>\n",
       "      <td>38.07</td>\n",
       "      <td>-120.19</td>\n",
       "      <td>1.52800</td>\n",
       "    </tr>\n",
       "    <tr>\n",
       "      <th>8911</th>\n",
       "      <td>7.1978</td>\n",
       "      <td>21.0</td>\n",
       "      <td>11.428005</td>\n",
       "      <td>1.777778</td>\n",
       "      <td>716.0</td>\n",
       "      <td>2.365904</td>\n",
       "      <td>37.28</td>\n",
       "      <td>-121.94</td>\n",
       "      <td>2.77400</td>\n",
       "    </tr>\n",
       "    <tr>\n",
       "      <th>9085</th>\n",
       "      <td>3.0577</td>\n",
       "      <td>10.0</td>\n",
       "      <td>10.173184</td>\n",
       "      <td>1.419865</td>\n",
       "      <td>1537.0</td>\n",
       "      <td>2.538700</td>\n",
       "      <td>34.08</td>\n",
       "      <td>-117.53</td>\n",
       "      <td>1.09100</td>\n",
       "    </tr>\n",
       "    <tr>\n",
       "      <th>9858</th>\n",
       "      <td>4.0096</td>\n",
       "      <td>9.0</td>\n",
       "      <td>10.223744</td>\n",
       "      <td>2.928571</td>\n",
       "      <td>316.0</td>\n",
       "      <td>2.952381</td>\n",
       "      <td>36.25</td>\n",
       "      <td>-119.25</td>\n",
       "      <td>1.91700</td>\n",
       "    </tr>\n",
       "    <tr>\n",
       "      <th>10664</th>\n",
       "      <td>1.6607</td>\n",
       "      <td>26.0</td>\n",
       "      <td>23.891566</td>\n",
       "      <td>5.873181</td>\n",
       "      <td>849.0</td>\n",
       "      <td>2.793651</td>\n",
       "      <td>38.96</td>\n",
       "      <td>-122.64</td>\n",
       "      <td>0.90300</td>\n",
       "    </tr>\n",
       "    <tr>\n",
       "      <th>13743</th>\n",
       "      <td>4.4000</td>\n",
       "      <td>33.0</td>\n",
       "      <td>13.985507</td>\n",
       "      <td>2.923729</td>\n",
       "      <td>840.0</td>\n",
       "      <td>2.190860</td>\n",
       "      <td>34.25</td>\n",
       "      <td>-118.26</td>\n",
       "      <td>2.90600</td>\n",
       "    </tr>\n",
       "    <tr>\n",
       "      <th>13875</th>\n",
       "      <td>1.7889</td>\n",
       "      <td>19.0</td>\n",
       "      <td>11.865489</td>\n",
       "      <td>3.394558</td>\n",
       "      <td>1371.0</td>\n",
       "      <td>2.939759</td>\n",
       "      <td>36.70</td>\n",
       "      <td>-119.75</td>\n",
       "      <td>0.49500</td>\n",
       "    </tr>\n",
       "    <tr>\n",
       "      <th>14512</th>\n",
       "      <td>3.0000</td>\n",
       "      <td>25.0</td>\n",
       "      <td>10.173184</td>\n",
       "      <td>2.017370</td>\n",
       "      <td>603.0</td>\n",
       "      <td>2.402810</td>\n",
       "      <td>34.95</td>\n",
       "      <td>-120.44</td>\n",
       "      <td>1.89300</td>\n",
       "    </tr>\n",
       "    <tr>\n",
       "      <th>15214</th>\n",
       "      <td>3.0221</td>\n",
       "      <td>13.0</td>\n",
       "      <td>11.536585</td>\n",
       "      <td>2.804878</td>\n",
       "      <td>88.0</td>\n",
       "      <td>2.146341</td>\n",
       "      <td>41.06</td>\n",
       "      <td>-122.84</td>\n",
       "      <td>0.14999</td>\n",
       "    </tr>\n",
       "    <tr>\n",
       "      <th>15863</th>\n",
       "      <td>3.0833</td>\n",
       "      <td>34.0</td>\n",
       "      <td>11.428005</td>\n",
       "      <td>2.000000</td>\n",
       "      <td>1045.0</td>\n",
       "      <td>2.446903</td>\n",
       "      <td>34.24</td>\n",
       "      <td>-117.35</td>\n",
       "      <td>0.72400</td>\n",
       "    </tr>\n",
       "    <tr>\n",
       "      <th>17019</th>\n",
       "      <td>3.0625</td>\n",
       "      <td>13.0</td>\n",
       "      <td>15.272727</td>\n",
       "      <td>3.727960</td>\n",
       "      <td>728.0</td>\n",
       "      <td>2.795970</td>\n",
       "      <td>37.97</td>\n",
       "      <td>-120.30</td>\n",
       "      <td>1.10400</td>\n",
       "    </tr>\n",
       "    <tr>\n",
       "      <th>18827</th>\n",
       "      <td>2.5434</td>\n",
       "      <td>24.0</td>\n",
       "      <td>10.168591</td>\n",
       "      <td>1.384449</td>\n",
       "      <td>1398.0</td>\n",
       "      <td>2.562085</td>\n",
       "      <td>38.38</td>\n",
       "      <td>-120.44</td>\n",
       "      <td>1.59500</td>\n",
       "    </tr>\n",
       "    <tr>\n",
       "      <th>20911</th>\n",
       "      <td>2.9375</td>\n",
       "      <td>15.0</td>\n",
       "      <td>10.447853</td>\n",
       "      <td>2.092369</td>\n",
       "      <td>716.0</td>\n",
       "      <td>1.996205</td>\n",
       "      <td>33.78</td>\n",
       "      <td>-116.44</td>\n",
       "      <td>2.19000</td>\n",
       "    </tr>\n",
       "    <tr>\n",
       "      <th>21813</th>\n",
       "      <td>3.7813</td>\n",
       "      <td>16.0</td>\n",
       "      <td>14.706731</td>\n",
       "      <td>2.403846</td>\n",
       "      <td>751.0</td>\n",
       "      <td>2.942308</td>\n",
       "      <td>33.84</td>\n",
       "      <td>-116.76</td>\n",
       "      <td>1.50000</td>\n",
       "    </tr>\n",
       "    <tr>\n",
       "      <th>22585</th>\n",
       "      <td>7.6107</td>\n",
       "      <td>4.0</td>\n",
       "      <td>20.033333</td>\n",
       "      <td>1.753333</td>\n",
       "      <td>352.0</td>\n",
       "      <td>3.080000</td>\n",
       "      <td>34.26</td>\n",
       "      <td>-117.22</td>\n",
       "      <td>5.00001</td>\n",
       "    </tr>\n",
       "    <tr>\n",
       "      <th>23751</th>\n",
       "      <td>4.7437</td>\n",
       "      <td>2.0</td>\n",
       "      <td>10.200218</td>\n",
       "      <td>1.988743</td>\n",
       "      <td>1757.0</td>\n",
       "      <td>2.447522</td>\n",
       "      <td>33.79</td>\n",
       "      <td>-116.51</td>\n",
       "      <td>1.93500</td>\n",
       "    </tr>\n",
       "    <tr>\n",
       "      <th>26462</th>\n",
       "      <td>3.5488</td>\n",
       "      <td>14.0</td>\n",
       "      <td>11.679878</td>\n",
       "      <td>2.000000</td>\n",
       "      <td>88.0</td>\n",
       "      <td>1.077160</td>\n",
       "      <td>38.02</td>\n",
       "      <td>-119.79</td>\n",
       "      <td>0.99200</td>\n",
       "    </tr>\n",
       "    <tr>\n",
       "      <th>26534</th>\n",
       "      <td>4.0529</td>\n",
       "      <td>50.0</td>\n",
       "      <td>11.901869</td>\n",
       "      <td>2.153453</td>\n",
       "      <td>834.0</td>\n",
       "      <td>2.225728</td>\n",
       "      <td>38.23</td>\n",
       "      <td>-122.68</td>\n",
       "      <td>1.21300</td>\n",
       "    </tr>\n",
       "    <tr>\n",
       "      <th>27653</th>\n",
       "      <td>3.8571</td>\n",
       "      <td>10.0</td>\n",
       "      <td>12.808511</td>\n",
       "      <td>3.067460</td>\n",
       "      <td>1336.0</td>\n",
       "      <td>2.285714</td>\n",
       "      <td>33.69</td>\n",
       "      <td>-116.38</td>\n",
       "      <td>2.20000</td>\n",
       "    </tr>\n",
       "    <tr>\n",
       "      <th>28452</th>\n",
       "      <td>1.5109</td>\n",
       "      <td>29.0</td>\n",
       "      <td>11.631818</td>\n",
       "      <td>2.755455</td>\n",
       "      <td>1245.0</td>\n",
       "      <td>2.563636</td>\n",
       "      <td>34.16</td>\n",
       "      <td>-116.14</td>\n",
       "      <td>0.99500</td>\n",
       "    </tr>\n",
       "  </tbody>\n",
       "</table>\n",
       "</div>"
      ],
      "text/plain": [
       "       MedInc  HouseAge   AveRooms  AveBedrms  Population  AveOccup  Latitude  \\\n",
       "161    2.9861      33.0  16.663636   3.427273       568.0  2.131313     39.48   \n",
       "2044   3.5781       6.0  11.285714   2.823810        88.0  2.397619     33.69   \n",
       "2935   3.5833       6.0  19.656250   2.206250        69.0  2.700000     33.78   \n",
       "3285   6.2547      25.0  21.397436   4.461538       181.0  2.769231     37.35   \n",
       "3307   2.1955       9.0  11.298969   2.401051      1257.0  2.567194     34.26   \n",
       "3925   5.3989       2.0  11.293103   1.717241      3881.0  1.799310     33.64   \n",
       "4662   3.7802      24.0  14.855037   2.763780      1079.0  2.595845     34.18   \n",
       "7923   1.7188      17.0  21.805654   4.038462       102.0  2.441558     39.14   \n",
       "8259   2.6288      17.0  11.490862   2.206107      1409.0  2.637168     38.07   \n",
       "8911   7.1978      21.0  11.428005   1.777778       716.0  2.365904     37.28   \n",
       "9085   3.0577      10.0  10.173184   1.419865      1537.0  2.538700     34.08   \n",
       "9858   4.0096       9.0  10.223744   2.928571       316.0  2.952381     36.25   \n",
       "10664  1.6607      26.0  23.891566   5.873181       849.0  2.793651     38.96   \n",
       "13743  4.4000      33.0  13.985507   2.923729       840.0  2.190860     34.25   \n",
       "13875  1.7889      19.0  11.865489   3.394558      1371.0  2.939759     36.70   \n",
       "14512  3.0000      25.0  10.173184   2.017370       603.0  2.402810     34.95   \n",
       "15214  3.0221      13.0  11.536585   2.804878        88.0  2.146341     41.06   \n",
       "15863  3.0833      34.0  11.428005   2.000000      1045.0  2.446903     34.24   \n",
       "17019  3.0625      13.0  15.272727   3.727960       728.0  2.795970     37.97   \n",
       "18827  2.5434      24.0  10.168591   1.384449      1398.0  2.562085     38.38   \n",
       "20911  2.9375      15.0  10.447853   2.092369       716.0  1.996205     33.78   \n",
       "21813  3.7813      16.0  14.706731   2.403846       751.0  2.942308     33.84   \n",
       "22585  7.6107       4.0  20.033333   1.753333       352.0  3.080000     34.26   \n",
       "23751  4.7437       2.0  10.200218   1.988743      1757.0  2.447522     33.79   \n",
       "26462  3.5488      14.0  11.679878   2.000000        88.0  1.077160     38.02   \n",
       "26534  4.0529      50.0  11.901869   2.153453       834.0  2.225728     38.23   \n",
       "27653  3.8571      10.0  12.808511   3.067460      1336.0  2.285714     33.69   \n",
       "28452  1.5109      29.0  11.631818   2.755455      1245.0  2.563636     34.16   \n",
       "\n",
       "       Longitude  MedHouseVal  \n",
       "161      -120.15      1.89700  \n",
       "2044     -116.47      1.60000  \n",
       "2935     -116.95      1.40000  \n",
       "3285     -120.57      1.67600  \n",
       "3307     -117.24      0.75000  \n",
       "3925     -117.61      1.80900  \n",
       "4662     -119.19      1.84100  \n",
       "7923     -116.90      0.72200  \n",
       "8259     -120.19      1.52800  \n",
       "8911     -121.94      2.77400  \n",
       "9085     -117.53      1.09100  \n",
       "9858     -119.25      1.91700  \n",
       "10664    -122.64      0.90300  \n",
       "13743    -118.26      2.90600  \n",
       "13875    -119.75      0.49500  \n",
       "14512    -120.44      1.89300  \n",
       "15214    -122.84      0.14999  \n",
       "15863    -117.35      0.72400  \n",
       "17019    -120.30      1.10400  \n",
       "18827    -120.44      1.59500  \n",
       "20911    -116.44      2.19000  \n",
       "21813    -116.76      1.50000  \n",
       "22585    -117.22      5.00001  \n",
       "23751    -116.51      1.93500  \n",
       "26462    -119.79      0.99200  \n",
       "26534    -122.68      1.21300  \n",
       "27653    -116.38      2.20000  \n",
       "28452    -116.14      0.99500  "
      ]
     },
     "execution_count": 11,
     "metadata": {},
     "output_type": "execute_result"
    }
   ],
   "source": [
    "df1[df1.AveRooms>10]"
   ]
  },
  {
   "cell_type": "code",
   "execution_count": 12,
   "id": "98929164",
   "metadata": {
    "scrolled": false
   },
   "outputs": [
    {
     "data": {
      "image/png": "[encoded data removed]",
      "text/plain": [
       "<Figure size 1080x360 with 3 Axes>"
      ]
     },
     "metadata": {
      "needs_background": "light"
     },
     "output_type": "display_data"
    },
    {
     "data": {
      "image/png": "[encoded data removed]",
      "text/plain": [
       "<Figure size 1080x360 with 3 Axes>"
      ]
     },
     "metadata": {
      "needs_background": "light"
     },
     "output_type": "display_data"
    },
    {
     "data": {
      "image/png": "[encoded data removed]",
      "text/plain": [
       "<Figure size 1080x360 with 3 Axes>"
      ]
     },
     "metadata": {
      "needs_background": "light"
     },
     "output_type": "display_data"
    },
    {
     "data": {
      "image/png": "[encoded data removed]",
      "text/plain": [
       "<Figure size 1080x360 with 3 Axes>"
      ]
     },
     "metadata": {
      "needs_background": "light"
     },
     "output_type": "display_data"
    },
    {
     "data": {
      "image/png": "[encoded data removed]",
      "text/plain": [
       "<Figure size 1080x360 with 3 Axes>"
      ]
     },
     "metadata": {
      "needs_background": "light"
     },
     "output_type": "display_data"
    },
    {
     "data": {
      "image/png": "[encoded data removed]",
      "text/plain": [
       "<Figure size 1080x360 with 3 Axes>"
      ]
     },
     "metadata": {
      "needs_background": "light"
     },
     "output_type": "display_data"
    },
    {
     "data": {
      "image/png": "[encoded data removed]",
      "text/plain": [
       "<Figure size 1080x360 with 3 Axes>"
      ]
     },
     "metadata": {
      "needs_background": "light"
     },
     "output_type": "display_data"
    },
    {
     "data": {
      "image/png": "[encoded data removed]",
      "text/plain": [
       "<Figure size 1080x360 with 3 Axes>"
      ]
     },
     "metadata": {
      "needs_background": "light"
     },
     "output_type": "display_data"
    },
    {
     "data": {
      "image/png": "[encoded data removed]",
      "text/plain": [
       "<Figure size 1080x360 with 3 Axes>"
      ]
     },
     "metadata": {
      "needs_background": "light"
     },
     "output_type": "display_data"
    }
   ],
   "source": [
    "for col in df1:\n",
    "    fig, axs = plt.subplots(1,3,figsize=(15,5))\n",
    "    sns.histplot(data=df1, x=col, bins=30, ax = axs[0])\n",
    "    sns.boxplot(x=df1[col], ax=axs[1])\n",
    "    sns.barplot(data= df1[col].describe().reset_index(), x='index', y=col, ax=axs[2])"
   ]
  },
  {
   "cell_type": "code",
   "execution_count": 13,
   "id": "3597d865",
   "metadata": {},
   "outputs": [
    {
     "data": {
      "text/plain": [
       "<AxesSubplot:>"
      ]
     },
     "execution_count": 13,
     "metadata": {},
     "output_type": "execute_result"
    },
    {
     "data": {
      "image/png": "[encoded data removed]",
      "text/plain": [
       "<Figure size 1152x720 with 2 Axes>"
      ]
     },
     "metadata": {
      "needs_background": "light"
     },
     "output_type": "display_data"
    }
   ],
   "source": [
    "plt.figure(figsize=(16,10))\n",
    "sns.heatmap(df1.corr(), annot=True, cmap=\"YlGnBu\")"
   ]
  },
  {
   "cell_type": "code",
   "execution_count": 14,
   "id": "abdc7625",
   "metadata": {},
   "outputs": [
    {
     "data": {
      "text/plain": [
       "array([ 5., 18., 16., 15., 11., 32., 31., 35., 28., 14., 24., 45., 17.,\n",
       "       25., 47., 52., 37., 33., 22., 34., 40., 36., 13., 20., 21., 10.,\n",
       "       29., 19., 43., 23., 39., 30., 42., 41., 38.,  9., 27., 26.,  6.,\n",
       "       44., 50., 46.,  4.,  7., 12., 49.,  2.,  8.,  3., 48., 51.])"
      ]
     },
     "execution_count": 14,
     "metadata": {},
     "output_type": "execute_result"
    }
   ],
   "source": [
    "df1['HouseAge'].unique()"
   ]
  },
  {
   "cell_type": "code",
   "execution_count": 15,
   "id": "4ee45e17",
   "metadata": {},
   "outputs": [
    {
     "data": {
      "text/plain": [
       "array([2.71720117, 3.33001422, 3.09145129, ..., 2.03344867, 3.25378788,\n",
       "       3.19128631])"
      ]
     },
     "execution_count": 15,
     "metadata": {},
     "output_type": "execute_result"
    }
   ],
   "source": [
    "  df1['AveOccup'].unique()"
   ]
  },
  {
   "cell_type": "code",
   "execution_count": 16,
   "id": "bafb881d",
   "metadata": {},
   "outputs": [],
   "source": [
    " df2 = df1[~(df1.AveOccup>11)]"
   ]
  },
  {
   "cell_type": "code",
   "execution_count": 17,
   "id": "9b64ed0e",
   "metadata": {},
   "outputs": [
    {
     "data": {
      "text/html": [
       "<div>\n",
       "<style scoped>\n",
       "    .dataframe tbody tr th:only-of-type {\n",
       "        vertical-align: middle;\n",
       "    }\n",
       "\n",
       "    .dataframe tbody tr th {\n",
       "        vertical-align: top;\n",
       "    }\n",
       "\n",
       "    .dataframe thead th {\n",
       "        text-align: right;\n",
       "    }\n",
       "</style>\n",
       "<table border=\"1\" class=\"dataframe\">\n",
       "  <thead>\n",
       "    <tr style=\"text-align: right;\">\n",
       "      <th></th>\n",
       "      <th>MedInc</th>\n",
       "      <th>HouseAge</th>\n",
       "      <th>AveRooms</th>\n",
       "      <th>AveBedrms</th>\n",
       "      <th>Population</th>\n",
       "      <th>AveOccup</th>\n",
       "      <th>Latitude</th>\n",
       "      <th>Longitude</th>\n",
       "      <th>MedHouseVal</th>\n",
       "    </tr>\n",
       "  </thead>\n",
       "  <tbody>\n",
       "    <tr>\n",
       "      <th>0</th>\n",
       "      <td>3.2375</td>\n",
       "      <td>5.0</td>\n",
       "      <td>6.028881</td>\n",
       "      <td>1.051118</td>\n",
       "      <td>4660.0</td>\n",
       "      <td>2.717201</td>\n",
       "      <td>38.10</td>\n",
       "      <td>-122.14</td>\n",
       "      <td>1.924</td>\n",
       "    </tr>\n",
       "    <tr>\n",
       "      <th>1</th>\n",
       "      <td>4.5500</td>\n",
       "      <td>18.0</td>\n",
       "      <td>6.091451</td>\n",
       "      <td>1.030581</td>\n",
       "      <td>1623.0</td>\n",
       "      <td>3.330014</td>\n",
       "      <td>34.37</td>\n",
       "      <td>-118.52</td>\n",
       "      <td>1.991</td>\n",
       "    </tr>\n",
       "    <tr>\n",
       "      <th>2</th>\n",
       "      <td>6.0743</td>\n",
       "      <td>16.0</td>\n",
       "      <td>6.394805</td>\n",
       "      <td>1.027350</td>\n",
       "      <td>1574.0</td>\n",
       "      <td>3.091451</td>\n",
       "      <td>34.11</td>\n",
       "      <td>-117.80</td>\n",
       "      <td>2.610</td>\n",
       "    </tr>\n",
       "    <tr>\n",
       "      <th>3</th>\n",
       "      <td>3.6875</td>\n",
       "      <td>15.0</td>\n",
       "      <td>5.164835</td>\n",
       "      <td>1.056911</td>\n",
       "      <td>616.0</td>\n",
       "      <td>2.737892</td>\n",
       "      <td>38.49</td>\n",
       "      <td>-122.59</td>\n",
       "      <td>1.917</td>\n",
       "    </tr>\n",
       "    <tr>\n",
       "      <th>4</th>\n",
       "      <td>6.1273</td>\n",
       "      <td>11.0</td>\n",
       "      <td>6.256544</td>\n",
       "      <td>1.029503</td>\n",
       "      <td>7777.0</td>\n",
       "      <td>2.383468</td>\n",
       "      <td>34.19</td>\n",
       "      <td>-118.64</td>\n",
       "      <td>2.915</td>\n",
       "    </tr>\n",
       "    <tr>\n",
       "      <th>...</th>\n",
       "      <td>...</td>\n",
       "      <td>...</td>\n",
       "      <td>...</td>\n",
       "      <td>...</td>\n",
       "      <td>...</td>\n",
       "      <td>...</td>\n",
       "      <td>...</td>\n",
       "      <td>...</td>\n",
       "      <td>...</td>\n",
       "    </tr>\n",
       "    <tr>\n",
       "      <th>29704</th>\n",
       "      <td>4.6923</td>\n",
       "      <td>34.0</td>\n",
       "      <td>6.062972</td>\n",
       "      <td>1.091743</td>\n",
       "      <td>1198.0</td>\n",
       "      <td>2.746992</td>\n",
       "      <td>38.12</td>\n",
       "      <td>-122.17</td>\n",
       "      <td>1.617</td>\n",
       "    </tr>\n",
       "    <tr>\n",
       "      <th>29705</th>\n",
       "      <td>3.1553</td>\n",
       "      <td>27.0</td>\n",
       "      <td>4.955882</td>\n",
       "      <td>1.002101</td>\n",
       "      <td>2048.0</td>\n",
       "      <td>2.433628</td>\n",
       "      <td>34.10</td>\n",
       "      <td>-117.18</td>\n",
       "      <td>1.516</td>\n",
       "    </tr>\n",
       "    <tr>\n",
       "      <th>29706</th>\n",
       "      <td>2.4844</td>\n",
       "      <td>16.0</td>\n",
       "      <td>5.415350</td>\n",
       "      <td>1.069140</td>\n",
       "      <td>1446.0</td>\n",
       "      <td>3.050691</td>\n",
       "      <td>37.95</td>\n",
       "      <td>-121.31</td>\n",
       "      <td>1.143</td>\n",
       "    </tr>\n",
       "    <tr>\n",
       "      <th>29707</th>\n",
       "      <td>5.1072</td>\n",
       "      <td>23.0</td>\n",
       "      <td>5.948012</td>\n",
       "      <td>1.003058</td>\n",
       "      <td>1497.0</td>\n",
       "      <td>3.111888</td>\n",
       "      <td>37.95</td>\n",
       "      <td>-121.98</td>\n",
       "      <td>2.213</td>\n",
       "    </tr>\n",
       "    <tr>\n",
       "      <th>29708</th>\n",
       "      <td>5.9941</td>\n",
       "      <td>15.0</td>\n",
       "      <td>5.351585</td>\n",
       "      <td>1.058989</td>\n",
       "      <td>2435.0</td>\n",
       "      <td>2.816514</td>\n",
       "      <td>37.40</td>\n",
       "      <td>-121.85</td>\n",
       "      <td>2.671</td>\n",
       "    </tr>\n",
       "  </tbody>\n",
       "</table>\n",
       "<p>29696 rows × 9 columns</p>\n",
       "</div>"
      ],
      "text/plain": [
       "       MedInc  HouseAge  AveRooms  AveBedrms  Population  AveOccup  Latitude  \\\n",
       "0      3.2375       5.0  6.028881   1.051118      4660.0  2.717201     38.10   \n",
       "1      4.5500      18.0  6.091451   1.030581      1623.0  3.330014     34.37   \n",
       "2      6.0743      16.0  6.394805   1.027350      1574.0  3.091451     34.11   \n",
       "3      3.6875      15.0  5.164835   1.056911       616.0  2.737892     38.49   \n",
       "4      6.1273      11.0  6.256544   1.029503      7777.0  2.383468     34.19   \n",
       "...       ...       ...       ...        ...         ...       ...       ...   \n",
       "29704  4.6923      34.0  6.062972   1.091743      1198.0  2.746992     38.12   \n",
       "29705  3.1553      27.0  4.955882   1.002101      2048.0  2.433628     34.10   \n",
       "29706  2.4844      16.0  5.415350   1.069140      1446.0  3.050691     37.95   \n",
       "29707  5.1072      23.0  5.948012   1.003058      1497.0  3.111888     37.95   \n",
       "29708  5.9941      15.0  5.351585   1.058989      2435.0  2.816514     37.40   \n",
       "\n",
       "       Longitude  MedHouseVal  \n",
       "0        -122.14        1.924  \n",
       "1        -118.52        1.991  \n",
       "2        -117.80        2.610  \n",
       "3        -122.59        1.917  \n",
       "4        -118.64        2.915  \n",
       "...          ...          ...  \n",
       "29704    -122.17        1.617  \n",
       "29705    -117.18        1.516  \n",
       "29706    -121.31        1.143  \n",
       "29707    -121.98        2.213  \n",
       "29708    -121.85        2.671  \n",
       "\n",
       "[29696 rows x 9 columns]"
      ]
     },
     "execution_count": 17,
     "metadata": {},
     "output_type": "execute_result"
    }
   ],
   "source": [
    "df2"
   ]
  },
  {
   "cell_type": "code",
   "execution_count": 18,
   "id": "2e829b32",
   "metadata": {},
   "outputs": [
    {
     "data": {
      "text/plain": [
       "MedInc         0\n",
       "HouseAge       0\n",
       "AveRooms       0\n",
       "AveBedrms      0\n",
       "Population     0\n",
       "AveOccup       0\n",
       "Latitude       0\n",
       "Longitude      0\n",
       "MedHouseVal    0\n",
       "dtype: int64"
      ]
     },
     "execution_count": 18,
     "metadata": {},
     "output_type": "execute_result"
    }
   ],
   "source": [
    "df2.isnull().sum()"
   ]
  },
  {
   "cell_type": "code",
   "execution_count": 19,
   "id": "5a8d7ddf",
   "metadata": {},
   "outputs": [],
   "source": [
    "Features = df2.drop('MedHouseVal', axis = 'columns')"
   ]
  },
  {
   "cell_type": "code",
   "execution_count": 20,
   "id": "7b13b0fa",
   "metadata": {},
   "outputs": [],
   "source": [
    "Target = df2.MedHouseVal"
   ]
  },
  {
   "cell_type": "code",
   "execution_count": 21,
   "id": "11a75efe",
   "metadata": {},
   "outputs": [],
   "source": [
    "from sklearn.model_selection import train_test_split"
   ]
  },
  {
   "cell_type": "code",
   "execution_count": 22,
   "id": "f9929d7b",
   "metadata": {},
   "outputs": [],
   "source": [
    "train_x, test_x, train_y, test_y = train_test_split(Features,Target, test_size=0.2,random_state=121)"
   ]
  },
  {
   "cell_type": "code",
   "execution_count": 23,
   "id": "508317a1",
   "metadata": {},
   "outputs": [
    {
     "data": {
      "text/plain": [
       "((23756, 8), (5940, 8), (23756,), (5940,))"
      ]
     },
     "execution_count": 23,
     "metadata": {},
     "output_type": "execute_result"
    }
   ],
   "source": [
    "train_x.shape,test_x.shape,train_y.shape, test_y.shape "
   ]
  },
  {
   "cell_type": "code",
   "execution_count": 24,
   "id": "395f1289",
   "metadata": {},
   "outputs": [],
   "source": [
    "#model = RandomForestRegressor(random_state=121)"
   ]
  },
  {
   "cell_type": "code",
   "execution_count": 25,
   "id": "f611b78a",
   "metadata": {},
   "outputs": [],
   "source": [
    "#from sklearn.model_selection import GridSearchCV"
   ]
  },
  {
   "cell_type": "code",
   "execution_count": 26,
   "id": "2c8f1572",
   "metadata": {},
   "outputs": [],
   "source": [
    "#tuned_model.fit(train_x, train_y)"
   ]
  },
  {
   "cell_type": "code",
   "execution_count": 27,
   "id": "fe4e0e36",
   "metadata": {},
   "outputs": [],
   "source": [
    "model = LGBMRegressor(random_state=121, class_weight='balanced')"
   ]
  },
  {
   "cell_type": "code",
   "execution_count": 28,
   "id": "4f957d1b",
   "metadata": {},
   "outputs": [],
   "source": [
    "from sklearn.model_selection import cross_val_score\n",
    "\n",
    "def lgb_cv(n_estimators, max_depth, num_leaves,subsample,colsample_bytree, data, targets):\n",
    "    estimator = LGBMRegressor(\n",
    "        n_estimators=n_estimators,\n",
    "        max_depth=max_depth,\n",
    "        num_leaves=num_leaves,\n",
    "        subsample=subsample,\n",
    "        colsample_bytree=colsample_bytree,\n",
    "        random_state=121,\n",
    "    )\n",
    "    cval = cross_val_score(estimator, data, targets,\n",
    "                           scoring='neg_root_mean_squared_error', cv=3)\n",
    "    return cval.mean()\n",
    "\n",
    "def lgb_crossval(n_estimators, max_depth, num_leaves,subsample,colsample_bytree):\n",
    "        return lgb_cv(\n",
    "            n_estimators=int(n_estimators),\n",
    "            max_depth=int(max_depth),\n",
    "            num_leaves=int(num_leaves),\n",
    "            subsample=max(min(subsample, 0.999), 1e-3),\n",
    "            colsample_bytree=max(min(colsample_bytree, 0.999), 1e-3),                            \n",
    "            data=train_x,\n",
    "            targets=train_y,\n",
    "        )\n",
    "        "
   ]
  },
  {
   "cell_type": "code",
   "execution_count": 29,
   "id": "a38e32cc",
   "metadata": {},
   "outputs": [
    {
     "name": "stdout",
     "output_type": "stream",
     "text": [
      "|   iter    |  target   | colsam... | max_depth | n_esti... | num_le... | subsample |\n",
      "-------------------------------------------------------------------------------------\n",
      "| \u001b[0m1        \u001b[0m | \u001b[0m-0.6064  \u001b[0m | \u001b[0m0.2001   \u001b[0m | \u001b[0m8.162    \u001b[0m | \u001b[0m77.56    \u001b[0m | \u001b[0m25.56    \u001b[0m | \u001b[0m0.8463   \u001b[0m |\n",
      "| \u001b[95m2        \u001b[0m | \u001b[95m-0.5689  \u001b[0m | \u001b[95m0.4667   \u001b[0m | \u001b[95m13.34    \u001b[0m | \u001b[95m226.2    \u001b[0m | \u001b[95m28.45    \u001b[0m | \u001b[95m0.9708   \u001b[0m |\n",
      "| \u001b[0m3        \u001b[0m | \u001b[0m-0.6531  \u001b[0m | \u001b[0m0.9565   \u001b[0m | \u001b[0m12.35    \u001b[0m | \u001b[0m15.31    \u001b[0m | \u001b[0m46.73    \u001b[0m | \u001b[0m0.464    \u001b[0m |\n",
      "| \u001b[0m4        \u001b[0m | \u001b[0m-0.5701  \u001b[0m | \u001b[0m0.6596   \u001b[0m | \u001b[0m9.431    \u001b[0m | \u001b[0m279.6    \u001b[0m | \u001b[0m33.17    \u001b[0m | \u001b[0m0.61     \u001b[0m |\n",
      "| \u001b[0m5        \u001b[0m | \u001b[0m-0.6864  \u001b[0m | \u001b[0m0.3209   \u001b[0m | \u001b[0m8.386    \u001b[0m | \u001b[0m21.1     \u001b[0m | \u001b[0m38.43    \u001b[0m | \u001b[0m0.8455   \u001b[0m |\n",
      "| \u001b[0m6        \u001b[0m | \u001b[0m-0.574   \u001b[0m | \u001b[0m0.8344   \u001b[0m | \u001b[0m8.267    \u001b[0m | \u001b[0m280.3    \u001b[0m | \u001b[0m32.28    \u001b[0m | \u001b[0m0.5557   \u001b[0m |\n",
      "| \u001b[0m7        \u001b[0m | \u001b[0m-0.6344  \u001b[0m | \u001b[0m0.1      \u001b[0m | \u001b[0m20.0     \u001b[0m | \u001b[0m253.0    \u001b[0m | \u001b[0m44.61    \u001b[0m | \u001b[0m0.9389   \u001b[0m |\n",
      "| \u001b[0m8        \u001b[0m | \u001b[0m-0.6334  \u001b[0m | \u001b[0m0.1      \u001b[0m | \u001b[0m20.0     \u001b[0m | \u001b[0m291.1    \u001b[0m | \u001b[0m43.53    \u001b[0m | \u001b[0m0.999    \u001b[0m |\n",
      "| \u001b[0m9        \u001b[0m | \u001b[0m-0.6287  \u001b[0m | \u001b[0m0.1      \u001b[0m | \u001b[0m16.09    \u001b[0m | \u001b[0m271.3    \u001b[0m | \u001b[0m23.48    \u001b[0m | \u001b[0m0.999    \u001b[0m |\n",
      "| \u001b[0m10       \u001b[0m | \u001b[0m-0.5726  \u001b[0m | \u001b[0m0.999    \u001b[0m | \u001b[0m5.0      \u001b[0m | \u001b[0m274.9    \u001b[0m | \u001b[0m42.33    \u001b[0m | \u001b[0m0.1      \u001b[0m |\n",
      "| \u001b[0m11       \u001b[0m | \u001b[0m-0.5708  \u001b[0m | \u001b[0m0.8454   \u001b[0m | \u001b[0m10.44    \u001b[0m | \u001b[0m213.5    \u001b[0m | \u001b[0m22.17    \u001b[0m | \u001b[0m0.9797   \u001b[0m |\n",
      "| \u001b[0m12       \u001b[0m | \u001b[0m-0.5752  \u001b[0m | \u001b[0m0.3932   \u001b[0m | \u001b[0m11.66    \u001b[0m | \u001b[0m213.3    \u001b[0m | \u001b[0m39.1     \u001b[0m | \u001b[0m0.6767   \u001b[0m |\n",
      "| \u001b[0m13       \u001b[0m | \u001b[0m-0.6334  \u001b[0m | \u001b[0m0.1      \u001b[0m | \u001b[0m20.0     \u001b[0m | \u001b[0m198.4    \u001b[0m | \u001b[0m28.64    \u001b[0m | \u001b[0m0.1      \u001b[0m |\n",
      "| \u001b[0m14       \u001b[0m | \u001b[0m-0.5721  \u001b[0m | \u001b[0m0.8283   \u001b[0m | \u001b[0m5.248    \u001b[0m | \u001b[0m224.8    \u001b[0m | \u001b[0m41.1     \u001b[0m | \u001b[0m0.4092   \u001b[0m |\n",
      "| \u001b[0m15       \u001b[0m | \u001b[0m-0.5722  \u001b[0m | \u001b[0m0.999    \u001b[0m | \u001b[0m5.0      \u001b[0m | \u001b[0m226.6    \u001b[0m | \u001b[0m21.0     \u001b[0m | \u001b[0m0.1      \u001b[0m |\n",
      "| \u001b[0m16       \u001b[0m | \u001b[0m-0.5751  \u001b[0m | \u001b[0m0.7865   \u001b[0m | \u001b[0m5.304    \u001b[0m | \u001b[0m130.0    \u001b[0m | \u001b[0m50.58    \u001b[0m | \u001b[0m0.2016   \u001b[0m |\n",
      "| \u001b[95m17       \u001b[0m | \u001b[95m-0.568   \u001b[0m | \u001b[95m0.4756   \u001b[0m | \u001b[95m18.55    \u001b[0m | \u001b[95m131.4    \u001b[0m | \u001b[95m34.67    \u001b[0m | \u001b[95m0.8425   \u001b[0m |\n",
      "| \u001b[0m18       \u001b[0m | \u001b[0m-0.6475  \u001b[0m | \u001b[0m0.1      \u001b[0m | \u001b[0m20.0     \u001b[0m | \u001b[0m115.1    \u001b[0m | \u001b[0m44.87    \u001b[0m | \u001b[0m0.999    \u001b[0m |\n",
      "| \u001b[0m19       \u001b[0m | \u001b[0m-0.5723  \u001b[0m | \u001b[0m0.9494   \u001b[0m | \u001b[0m8.07     \u001b[0m | \u001b[0m143.3    \u001b[0m | \u001b[0m37.42    \u001b[0m | \u001b[0m0.4022   \u001b[0m |\n",
      "| \u001b[0m20       \u001b[0m | \u001b[0m-0.639   \u001b[0m | \u001b[0m0.1241   \u001b[0m | \u001b[0m20.0     \u001b[0m | \u001b[0m141.5    \u001b[0m | \u001b[0m21.15    \u001b[0m | \u001b[0m0.1005   \u001b[0m |\n",
      "| \u001b[0m21       \u001b[0m | \u001b[0m-0.5734  \u001b[0m | \u001b[0m0.999    \u001b[0m | \u001b[0m18.59    \u001b[0m | \u001b[0m140.7    \u001b[0m | \u001b[0m47.87    \u001b[0m | \u001b[0m0.999    \u001b[0m |\n",
      "| \u001b[0m22       \u001b[0m | \u001b[0m-0.6395  \u001b[0m | \u001b[0m0.1      \u001b[0m | \u001b[0m5.0      \u001b[0m | \u001b[0m149.9    \u001b[0m | \u001b[0m51.0     \u001b[0m | \u001b[0m0.1      \u001b[0m |\n",
      "| \u001b[0m23       \u001b[0m | \u001b[0m-0.5737  \u001b[0m | \u001b[0m0.6004   \u001b[0m | \u001b[0m5.953    \u001b[0m | \u001b[0m132.3    \u001b[0m | \u001b[0m35.72    \u001b[0m | \u001b[0m0.1952   \u001b[0m |\n",
      "| \u001b[0m24       \u001b[0m | \u001b[0m-0.5758  \u001b[0m | \u001b[0m0.9625   \u001b[0m | \u001b[0m19.09    \u001b[0m | \u001b[0m225.3    \u001b[0m | \u001b[0m47.68    \u001b[0m | \u001b[0m0.421    \u001b[0m |\n",
      "| \u001b[0m25       \u001b[0m | \u001b[0m-0.573   \u001b[0m | \u001b[0m0.999    \u001b[0m | \u001b[0m5.0      \u001b[0m | \u001b[0m213.7    \u001b[0m | \u001b[0m51.0     \u001b[0m | \u001b[0m0.999    \u001b[0m |\n",
      "=====================================================================================\n"
     ]
    }
   ],
   "source": [
    "optimizer = BayesianOptimization(\n",
    "        f=lgb_crossval,\n",
    "        pbounds={\n",
    "            \"n_estimators\": (10, 300),\n",
    "            \"max_depth\": (5,20),\n",
    "            \"num_leaves\": (21, 51),\n",
    "            \"subsample\": (0.1, 0.999),\n",
    "            \"colsample_bytree\": (0.1, 0.999)\n",
    "        },\n",
    "        random_state=121,\n",
    "        verbose=2\n",
    "    )\n",
    "optimizer.maximize(n_iter=20)\n"
   ]
  },
  {
   "cell_type": "code",
   "execution_count": 30,
   "id": "10661686",
   "metadata": {},
   "outputs": [
    {
     "data": {
      "text/plain": [
       "{'target': -0.5680007792701507,\n",
       " 'params': {'colsample_bytree': 0.4756214719148816,\n",
       "  'max_depth': 18.550828599084348,\n",
       "  'n_estimators': 131.42417502803661,\n",
       "  'num_leaves': 34.67149229451265,\n",
       "  'subsample': 0.8424699576520365}}"
      ]
     },
     "execution_count": 30,
     "metadata": {},
     "output_type": "execute_result"
    }
   ],
   "source": [
    "optimizer.max"
   ]
  },
  {
   "cell_type": "code",
   "execution_count": 31,
   "id": "90749bee",
   "metadata": {},
   "outputs": [],
   "source": [
    "best_params = optimizer.max['params']\n",
    "best_params['max_depth'] = int(best_params['max_depth'])\n",
    "best_params['subsample'] = best_params['subsample']\n",
    "best_params['num_leaves'] = int(best_params['num_leaves'])\n",
    "best_params['n_estimators'] = int(best_params['n_estimators'])\n",
    "best_params['colsample_bytree'] = best_params['colsample_bytree']\n"
   ]
  },
  {
   "cell_type": "code",
   "execution_count": 32,
   "id": "b78e469a",
   "metadata": {},
   "outputs": [
    {
     "data": {
      "text/plain": [
       "LGBMRegressor(colsample_bytree=0.4756214719148816, max_depth=18,\n",
       "              n_estimators=131, num_leaves=34, random_state=121,\n",
       "              subsample=0.8424699576520365)"
      ]
     },
     "execution_count": 32,
     "metadata": {},
     "output_type": "execute_result"
    }
   ],
   "source": [
    "best_model = LGBMRegressor(random_state=121)\n",
    "best_model.set_params(**best_params)\n",
    "best_model.fit(train_x, train_y)"
   ]
  },
  {
   "cell_type": "code",
   "execution_count": 33,
   "id": "ba8520e0",
   "metadata": {},
   "outputs": [],
   "source": [
    "bayes_pred = best_model.predict(test_x)"
   ]
  },
  {
   "cell_type": "code",
   "execution_count": 34,
   "id": "03f45d2a",
   "metadata": {},
   "outputs": [
    {
     "data": {
      "text/plain": [
       "array([2.27832707, 1.93523035, 2.64379899, ..., 2.19935259, 1.86543791,\n",
       "       0.93696347])"
      ]
     },
     "execution_count": 34,
     "metadata": {},
     "output_type": "execute_result"
    }
   ],
   "source": [
    "bayes_pred"
   ]
  },
  {
   "cell_type": "code",
   "execution_count": 35,
   "id": "eb759a79",
   "metadata": {},
   "outputs": [
    {
     "data": {
      "text/plain": [
       "0.5668491273658558"
      ]
     },
     "execution_count": 35,
     "metadata": {},
     "output_type": "execute_result"
    }
   ],
   "source": [
    "np.sqrt(mean_squared_error(test_y, bayes_pred))"
   ]
  },
  {
   "cell_type": "code",
   "execution_count": 36,
   "id": "5fd4cdd2",
   "metadata": {},
   "outputs": [],
   "source": [
    "data = pd.read_csv(\"testing_data.csv\")"
   ]
  },
  {
   "cell_type": "code",
   "execution_count": 37,
   "id": "a31dde47",
   "metadata": {},
   "outputs": [],
   "source": [
    "house_id = data.id"
   ]
  },
  {
   "cell_type": "code",
   "execution_count": 38,
   "id": "5a7d6171",
   "metadata": {},
   "outputs": [
    {
     "data": {
      "text/plain": [
       "0    16148\n",
       "1     7213\n",
       "2    23067\n",
       "3    28335\n",
       "4    33439\n",
       "Name: id, dtype: int64"
      ]
     },
     "execution_count": 38,
     "metadata": {},
     "output_type": "execute_result"
    }
   ],
   "source": [
    "house_id.head()"
   ]
  },
  {
   "cell_type": "code",
   "execution_count": 39,
   "id": "26a76ec1",
   "metadata": {},
   "outputs": [
    {
     "data": {
      "text/html": [
       "<div>\n",
       "<style scoped>\n",
       "    .dataframe tbody tr th:only-of-type {\n",
       "        vertical-align: middle;\n",
       "    }\n",
       "\n",
       "    .dataframe tbody tr th {\n",
       "        vertical-align: top;\n",
       "    }\n",
       "\n",
       "    .dataframe thead th {\n",
       "        text-align: right;\n",
       "    }\n",
       "</style>\n",
       "<table border=\"1\" class=\"dataframe\">\n",
       "  <thead>\n",
       "    <tr style=\"text-align: right;\">\n",
       "      <th></th>\n",
       "      <th>id</th>\n",
       "      <th>MedInc</th>\n",
       "      <th>HouseAge</th>\n",
       "      <th>AveRooms</th>\n",
       "      <th>AveBedrms</th>\n",
       "      <th>Population</th>\n",
       "      <th>AveOccup</th>\n",
       "      <th>Latitude</th>\n",
       "      <th>Longitude</th>\n",
       "    </tr>\n",
       "  </thead>\n",
       "  <tbody>\n",
       "    <tr>\n",
       "      <th>0</th>\n",
       "      <td>16148</td>\n",
       "      <td>2.2235</td>\n",
       "      <td>12.0</td>\n",
       "      <td>3.967700</td>\n",
       "      <td>1.177003</td>\n",
       "      <td>1457.0</td>\n",
       "      <td>3.633075</td>\n",
       "      <td>34.09</td>\n",
       "      <td>-117.30</td>\n",
       "    </tr>\n",
       "    <tr>\n",
       "      <th>1</th>\n",
       "      <td>7213</td>\n",
       "      <td>4.0484</td>\n",
       "      <td>26.0</td>\n",
       "      <td>6.776596</td>\n",
       "      <td>1.038298</td>\n",
       "      <td>1816.0</td>\n",
       "      <td>3.836257</td>\n",
       "      <td>34.28</td>\n",
       "      <td>-118.74</td>\n",
       "    </tr>\n",
       "    <tr>\n",
       "      <th>2</th>\n",
       "      <td>23067</td>\n",
       "      <td>2.3571</td>\n",
       "      <td>20.0</td>\n",
       "      <td>3.621701</td>\n",
       "      <td>1.074380</td>\n",
       "      <td>2919.0</td>\n",
       "      <td>1.554825</td>\n",
       "      <td>37.36</td>\n",
       "      <td>-121.89</td>\n",
       "    </tr>\n",
       "    <tr>\n",
       "      <th>3</th>\n",
       "      <td>28335</td>\n",
       "      <td>1.7552</td>\n",
       "      <td>30.0</td>\n",
       "      <td>2.342071</td>\n",
       "      <td>1.093834</td>\n",
       "      <td>1327.0</td>\n",
       "      <td>3.065442</td>\n",
       "      <td>34.05</td>\n",
       "      <td>-118.29</td>\n",
       "    </tr>\n",
       "    <tr>\n",
       "      <th>4</th>\n",
       "      <td>33439</td>\n",
       "      <td>2.5754</td>\n",
       "      <td>52.0</td>\n",
       "      <td>3.136150</td>\n",
       "      <td>1.166667</td>\n",
       "      <td>870.0</td>\n",
       "      <td>1.890476</td>\n",
       "      <td>37.78</td>\n",
       "      <td>-122.42</td>\n",
       "    </tr>\n",
       "  </tbody>\n",
       "</table>\n",
       "</div>"
      ],
      "text/plain": [
       "      id  MedInc  HouseAge  AveRooms  AveBedrms  Population  AveOccup  \\\n",
       "0  16148  2.2235      12.0  3.967700   1.177003      1457.0  3.633075   \n",
       "1   7213  4.0484      26.0  6.776596   1.038298      1816.0  3.836257   \n",
       "2  23067  2.3571      20.0  3.621701   1.074380      2919.0  1.554825   \n",
       "3  28335  1.7552      30.0  2.342071   1.093834      1327.0  3.065442   \n",
       "4  33439  2.5754      52.0  3.136150   1.166667       870.0  1.890476   \n",
       "\n",
       "   Latitude  Longitude  \n",
       "0     34.09    -117.30  \n",
       "1     34.28    -118.74  \n",
       "2     37.36    -121.89  \n",
       "3     34.05    -118.29  \n",
       "4     37.78    -122.42  "
      ]
     },
     "execution_count": 39,
     "metadata": {},
     "output_type": "execute_result"
    }
   ],
   "source": [
    "data.head()"
   ]
  },
  {
   "cell_type": "code",
   "execution_count": 40,
   "id": "ae7f938c",
   "metadata": {
    "scrolled": true
   },
   "outputs": [
    {
     "data": {
      "text/plain": [
       "id            0\n",
       "MedInc        0\n",
       "HouseAge      0\n",
       "AveRooms      0\n",
       "AveBedrms     0\n",
       "Population    0\n",
       "AveOccup      0\n",
       "Latitude      0\n",
       "Longitude     0\n",
       "dtype: int64"
      ]
     },
     "execution_count": 40,
     "metadata": {},
     "output_type": "execute_result"
    }
   ],
   "source": [
    "data.isnull().sum()"
   ]
  },
  {
   "cell_type": "code",
   "execution_count": 41,
   "id": "3ac14e45",
   "metadata": {},
   "outputs": [],
   "source": [
    "data.drop('id', axis = 1, inplace=True)"
   ]
  },
  {
   "cell_type": "code",
   "execution_count": 42,
   "id": "b5f73901",
   "metadata": {},
   "outputs": [],
   "source": [
    "  test_pred = best_model.predict(data)"
   ]
  },
  {
   "cell_type": "code",
   "execution_count": 43,
   "id": "3409e1c3",
   "metadata": {},
   "outputs": [
    {
     "data": {
      "text/plain": [
       "array([0.98744342, 1.93788962, 2.21386302, ..., 3.50815825, 5.28423246,\n",
       "       1.66176485])"
      ]
     },
     "execution_count": 43,
     "metadata": {},
     "output_type": "execute_result"
    }
   ],
   "source": [
    "test_pred"
   ]
  },
  {
   "cell_type": "code",
   "execution_count": 44,
   "id": "af6d5d4a",
   "metadata": {},
   "outputs": [],
   "source": [
    "df = pd.DataFrame({\"house_id\":house_id,\"test_pred\":test_pred})"
   ]
  },
  {
   "cell_type": "code",
   "execution_count": 45,
   "id": "41a529e6",
   "metadata": {},
   "outputs": [],
   "source": [
    "df.to_csv(\"Sample_prediction2.csv\",index=False)"
   ]
  },
  {
   "cell_type": "code",
   "execution_count": null,
   "id": "36f61742",
   "metadata": {},
   "outputs": [],
   "source": []
  }
 ],
 "metadata": {
  "kernelspec": {
   "display_name": "Python 3 (ipykernel)",
   "language": "python",
   "name": "python3"
  },
  "language_info": {
   "codemirror_mode": {
    "name": "ipython",
    "version": 3
   },
   "file_extension": ".py",
   "mimetype": "text/x-python",
   "name": "python",
   "nbconvert_exporter": "python",
   "pygments_lexer": "ipython3",
   "version": "3.9.12"
  }
 },
 "nbformat": 4,
 "nbformat_minor": 5
}
